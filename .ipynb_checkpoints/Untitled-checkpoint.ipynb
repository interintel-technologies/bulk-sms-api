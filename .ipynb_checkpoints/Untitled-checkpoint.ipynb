{
 "cells": [
  {
   "cell_type": "markdown",
   "id": "8db47be3-e31b-43dd-a67a-0c63dd5f8b82",
   "metadata": {},
   "source": [
    "#### A Guide on how to Integrate with the BULK SMS API using Oauth2.0 ####\n",
    "\n",
    "#### Table of Contents\n",
    "1.0 Get Login Details.\n",
    "2.0 Get Access Token and Refresh Token.\n",
    "3.0 Formulate the Request.\n",
    "\n",
    "\n",
    "# 1 Get Oauth2 details from your portal under Developer->Settings section \n",
    "\n",
    "<img src=\"images/nenasasa_portal.png\">Nenasasa Portal<img>\n",
    "\n",
    "The details are: client_id, username and grant_type. You'll also need to use your existing password.\n",
    "\n",
    "### 2.0 Make a request to the endpoint (https://nenasasa.com/api/v1/o/token/) to get an access_token and a refresh_token, which last for 3600 seconds (10 hours) \n",
    "\n",
    "<img src=\"images/get_access_token.png\"> Get Access Token <img>\n",
    "\n",
    "## 2.1 You can use the same endpoint to refresh the token, and receive a new token whenever the access token expires.\n",
    "\n",
    "<img src=\"images/refresh_token.png\">Refresh Token<img>\n",
    "\n",
    "### 3.0 You'll then need add the access_token to the headers (Authorization: Bearer {access_token}) and send an SMS request as shown.\n",
    " <img src=\"configure_token.png\"> Add access token to Authorization Header<img>\n",
    " \n",
    " <img src=\"send_sms.png\"> Send SMS using SEND SMS endpoint <img>\n",
    "\n"
   ]
  },
  {
   "cell_type": "code",
   "execution_count": null,
   "id": "87be7dcf-4432-4937-aeb0-43ea37d70f8e",
   "metadata": {},
   "outputs": [],
   "source": []
  }
 ],
 "metadata": {
  "kernelspec": {
   "display_name": "Python 3 (ipykernel)",
   "language": "python",
   "name": "python3"
  },
  "language_info": {
   "codemirror_mode": {
    "name": "ipython",
    "version": 3
   },
   "file_extension": ".py",
   "mimetype": "text/x-python",
   "name": "python",
   "nbconvert_exporter": "python",
   "pygments_lexer": "ipython3",
   "version": "3.9.2"
  }
 },
 "nbformat": 4,
 "nbformat_minor": 5
}

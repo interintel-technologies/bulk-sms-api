{
 "cells": [
  {
   "cell_type": "markdown",
   "id": "8db47be3-e31b-43dd-a67a-0c63dd5f8b82",
   "metadata": {},
   "source": [
    "# A Guide on How to Integrate with the BULK SMS API using Oauth2.0 #\n",
    "\n",
    "### Table of Contents\n",
    "1.0 Get Login Details.  \n",
    "2.0 Get an Access Token and a Refresh Token.  \n",
    "3.0 Formulate the Request.\n",
    "\n",
    "#### <b>1.0 Get Login Details </b>\n",
    "\n",
    "Get Oauth2 login details from your Nenasasa portal under Developer->Settings section \n",
    "\n",
    "<img src=\"images/nenasasa_portal.png\" width=\"600px\" height=\"700px\" alt=\"Nenasasa Portal\" style=\"display:block; margin-left:auto; margin-right:auto;\">\n",
    "\n",
    "<i>The details are: client_id, username and grant_type. You'll also need to use your existing password.</i>\n",
    "\n",
    "#### <b> 2.0 Get an Access Token and a Refresh Token </b>\n",
    "To get an access_token and a refresh_token, make a request to the Nenasasa endpoint (https://nenasasa.com/api/v1/o/token/)  They last for 3600 seconds (10 hours). \n",
    "\n",
    "<img src=\"images/get_access_token.png\"  width=\"500px\" height=\"800px\" alt=\"Get Access Token\"  style=\"display:block; margin-left:auto; margin-right:auto;\">\n",
    "\n",
    "You can use the same endpoint to refresh the token, and receive a new token whenever the access token expires.\n",
    "\n",
    "<img src=\"images/refresh_token.png\" width=\"500px\" height=\"800px\" style=\"display:block; margin-left:auto; margin-right:auto;\" alt=\"Refresh Token\">\n",
    "\n",
    "#### 3.0 Formulate the Request\n",
    "You'll then need to add the access_token to the Authorization header (Authorization: Bearer {access_token}) to sent the SMS request.\n",
    " <img src=\"images/configure_token.png\" width=\"500px\" height=\"800px\" style=\"display:block; margin-left:auto; margin-right:auto;\" alt=\"Add access token to Authorization Header\">\n",
    " \n",
    " <i>Add the access token to Authorization Header </i>\n",
    " \n",
    " You can formulate the SMS request as below.\n",
    " \n",
    " <img src=\"images/send_bulk_sms.png\" width=\"500px\" height=\"800px\" style=\"display:block; margin-left:auto; margin-right:auto;\" alt=\"Send SMS using SEND SMS endpoint\">\n",
    "\n"
   ]
  },
  {
   "cell_type": "code",
   "execution_count": null,
   "id": "87be7dcf-4432-4937-aeb0-43ea37d70f8e",
   "metadata": {},
   "outputs": [],
   "source": []
  }
 ],
 "metadata": {
  "kernelspec": {
   "display_name": "Python 3 (ipykernel)",
   "language": "python",
   "name": "python3"
  },
  "language_info": {
   "codemirror_mode": {
    "name": "ipython",
    "version": 3
   },
   "file_extension": ".py",
   "mimetype": "text/x-python",
   "name": "python",
   "nbconvert_exporter": "python",
   "pygments_lexer": "ipython3",
   "version": "3.9.2"
  }
 },
 "nbformat": 4,
 "nbformat_minor": 5
}
